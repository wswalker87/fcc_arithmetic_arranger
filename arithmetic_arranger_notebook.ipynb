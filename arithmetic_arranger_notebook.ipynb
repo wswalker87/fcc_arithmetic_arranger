{
 "cells": [
  {
   "cell_type": "code",
   "execution_count": null,
   "metadata": {},
   "outputs": [],
   "source": [
    "msg = \"Welcome to Notebooks in VS Code!\"\n",
    "print(msg)"
   ]
  },
  {
   "cell_type": "markdown",
   "metadata": {},
   "source": [
    "# There are several situations that should return an error:\n",
    "\n",
    "## ```Error: Too many problems.``` \n",
    "    The limit here it 5. Anything greater should return that error\n",
    "\n",
    "    \n",
    "\n",
    "## ```Error: Operator must be '+' or '-'.```\n",
    "    Only addition and subtraction are accepted. Multiplication and division are disallowed. \n",
    "\n",
    "## ```Error: Numbers must only contain digits.```\n",
    "    Each number(operand) must be a number\n",
    "\n",
    "## ```Error: Numbers cannot be more than four digits.```\n",
    "    Each operand has a max of four digits in width."
   ]
  },
  {
   "cell_type": "code",
   "execution_count": 5,
   "metadata": {},
   "outputs": [
    {
     "ename": "NameError",
     "evalue": "name 'problem' is not defined",
     "output_type": "error",
     "traceback": [
      "\u001b[1;31m---------------------------------------------------------------------------\u001b[0m",
      "\u001b[1;31mNameError\u001b[0m                                 Traceback (most recent call last)",
      "Cell \u001b[1;32mIn[5], line 22\u001b[0m\n\u001b[0;32m     12\u001b[0m         operand1, operator, operand2 \u001b[38;5;241m=\u001b[39m problem\u001b[38;5;241m.\u001b[39msplit()\n\u001b[0;32m     13\u001b[0m         \u001b[38;5;28mprint\u001b[39m(split_problems)\n\u001b[1;32m---> 22\u001b[0m \u001b[43marithmetic_arranger\u001b[49m\u001b[43m(\u001b[49m\u001b[38;5;124;43m'\u001b[39;49m\u001b[38;5;124;43m\"\u001b[39;49m\u001b[38;5;124;43m2+2\u001b[39;49m\u001b[38;5;124;43m\"\u001b[39;49m\u001b[38;5;124;43m, \u001b[39;49m\u001b[38;5;124;43m\"\u001b[39;49m\u001b[38;5;124;43m2+2\u001b[39;49m\u001b[38;5;124;43m\"\u001b[39;49m\u001b[38;5;124;43m, \u001b[39;49m\u001b[38;5;124;43m\"\u001b[39;49m\u001b[38;5;124;43m2+2\u001b[39;49m\u001b[38;5;124;43m\"\u001b[39;49m\u001b[38;5;124;43m, \u001b[39;49m\u001b[38;5;124;43m\"\u001b[39;49m\u001b[38;5;124;43m2+2\u001b[39;49m\u001b[38;5;124;43m\"\u001b[39;49m\u001b[38;5;124;43m'\u001b[39;49m\u001b[43m)\u001b[49m\n",
      "Cell \u001b[1;32mIn[5], line 12\u001b[0m, in \u001b[0;36marithmetic_arranger\u001b[1;34m(problems)\u001b[0m\n\u001b[0;32m     10\u001b[0m split_problems \u001b[38;5;241m=\u001b[39m[]\n\u001b[0;32m     11\u001b[0m \u001b[38;5;28;01mfor\u001b[39;00m \u001b[38;5;28minput\u001b[39m \u001b[38;5;129;01min\u001b[39;00m problems:\n\u001b[1;32m---> 12\u001b[0m     operand1, operator, operand2 \u001b[38;5;241m=\u001b[39m \u001b[43mproblem\u001b[49m\u001b[38;5;241m.\u001b[39msplit()\n\u001b[0;32m     13\u001b[0m     \u001b[38;5;28mprint\u001b[39m(split_problems)\n",
      "\u001b[1;31mNameError\u001b[0m: name 'problem' is not defined"
     ]
    }
   ],
   "source": [
    "def arithmetic_arranger(problems):\n",
    "    error_too_many = 'Too many problems.'\n",
    "    error_wrong_operand = \"Operator must be '+' or '-'.\"\n",
    "    error_only_digits = 'Number must only contain digits.'\n",
    "    error_max_digits = 'Numbers cannot be more than four digits.'\n",
    "   # if len(problems) > 5:\n",
    "    #    current_error = error_too_many\n",
    "    #    return print(f'Error: {current_error}')\n",
    "    #Split input\n",
    "    split_problems =[]\n",
    "    for input in problems:\n",
    "        operand1, operator, operand2 = problem.split()\n",
    "        print(split_problems)\n",
    "\n",
    "\n",
    "\n",
    "\n",
    "\n",
    "\n",
    "\n",
    "\n",
    "arithmetic_arranger('\"2+2\", \"2+2\", \"2+2\", \"2+2\"')\n"
   ]
  },
  {
   "cell_type": "markdown",
   "metadata": {},
   "source": [
    "https://github.com/ShreyasSubhedar/fcc-arithmetic-arranger/blob/master/arithmetic_arranger.py\n",
    "\n",
    "\n",
    "\n",
    "FAILED test_module.py::test_template[test_two_problems_arrangement1] - AssertionError: Expected different output when calling \"arithmetic_arranger()\" with [\"3801 - 2\", \"123 + 49\"]\n",
    "FAILED test_module.py::test_template[test_two_problems_arrangement2] - AssertionError: Expected different output when calling \"arithmetic_arranger()\" with [\"1 + 2\", \"1 - 9380\"]\n",
    "FAILED test_module.py::test_template[test_four_problems_arrangement] - AssertionError: Expected different output when calling \"arithmetic_arranger()\" with [\"3 + 855\", \"3801 - 2\", \"45 + 43\", \"123 + 49\"]\n",
    "FAILED test_module.py::test_template[test_five_problems_arrangement] - AssertionError: Expected different output when calling \"arithmetic_arranger()\" with [\"11 + 4\", \"3801 - 2999\", \"1 + 2\", \"123 + 49\", \"1 - 9380\"]\n",
    "FAILED test_module.py::test_template[test_too_many_problems] - AssertionError: Expected calling \"arithmetic_arranger()\" with more than five problems to return \"Error: Too many problems.\"\n",
    "FAILED test_module.py::test_template[test_incorrect_operator] - AssertionError: Expected calling \"arithmetic_arranger()\" with a problem that uses the \"/\" operator to return \"Error: Operator must be '+' or '-'.\"\n",
    "FAILED test_module.py::test_template[test_too_many_digits] - AssertionError: Expected calling \"arithmetic_arranger()\" with a problem that has a number over 4 digits long to return \"Error: Numbers cannot be more tha...\n",
    "FAILED test_module.py::test_template[test_only_digits] - ValueError: invalid literal for int() with base 10: '3g5'\n",
    "FAILED test_module.py::test_template[test_two_problems_with_solutions] - AssertionError: Expected solutions to be correctly displayed in output when calling \"arithmetic_arranger()\" with [\"3 + 855\", \"988 + 40\"] and a second arg...\n",
    "FAILED test_module.py::test_template[test_five_problems_with_solutions] - AssertionError: Expected solutions to be correctly displayed in output when calling \"arithmetic_arranger()\" with five arithmetic problems and a second ar..."
   ]
  }
 ],
 "metadata": {
  "kernelspec": {
   "display_name": "Python 3",
   "language": "python",
   "name": "python3"
  },
  "language_info": {
   "codemirror_mode": {
    "name": "ipython",
    "version": 3
   },
   "file_extension": ".py",
   "mimetype": "text/x-python",
   "name": "python",
   "nbconvert_exporter": "python",
   "pygments_lexer": "ipython3",
   "version": "3.12.1"
  }
 },
 "nbformat": 4,
 "nbformat_minor": 2
}
